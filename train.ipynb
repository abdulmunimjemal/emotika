{
 "cells": [
  {
   "cell_type": "markdown",
   "metadata": {},
   "source": [
    "## Emotika: Emotion Detection in Text\n"
   ]
  },
  {
   "cell_type": "code",
   "execution_count": 1,
   "metadata": {},
   "outputs": [],
   "source": [
    "import pandas as pd"
   ]
  },
  {
   "cell_type": "code",
   "execution_count": 61,
   "metadata": {},
   "outputs": [],
   "source": [
    "import matplotlib.pyplot as plt\n",
    "\n",
    "\n",
    "def plot_training_history(history):\n",
    "    # Plot training & validation accuracy values\n",
    "    plt.plot(history.history['accuracy'])\n",
    "    plt.plot(history.history['val_accuracy'])\n",
    "    plt.title('Model accuracy')\n",
    "    plt.xlabel('Epoch')\n",
    "    plt.ylabel('Accuracy')\n",
    "    plt.legend(['Train', 'Validation'], loc='upper left')\n",
    "    plt.show()\n",
    "\n",
    "    # Plot training & validation loss values\n",
    "    plt.plot(history.history['loss'])\n",
    "    plt.plot(history.history['val_loss'])\n",
    "    plt.title('Model loss')\n",
    "    plt.xlabel('Epoch')\n",
    "    plt.ylabel('Loss')\n",
    "    plt.legend(['Train', 'Validation'], loc='upper left')\n",
    "    plt.show()"
   ]
  },
  {
   "cell_type": "code",
   "execution_count": 7,
   "metadata": {},
   "outputs": [],
   "source": [
    "train_data = pd.read_csv('data/raw/train.txt', sep=';',\n",
    "                         header=None, names=['text', 'emotion'])\n",
    "test_data = pd.read_csv('data/raw/test.txt', sep=';',\n",
    "                        header=None, names=['text', 'emotion'])\n",
    "val_data = pd.read_csv('data/raw/val.txt', sep=';',\n",
    "                       header=None, names=['text', 'emotion'])"
   ]
  },
  {
   "cell_type": "code",
   "execution_count": 8,
   "metadata": {},
   "outputs": [
    {
     "data": {
      "text/html": [
       "<div>\n",
       "<style scoped>\n",
       "    .dataframe tbody tr th:only-of-type {\n",
       "        vertical-align: middle;\n",
       "    }\n",
       "\n",
       "    .dataframe tbody tr th {\n",
       "        vertical-align: top;\n",
       "    }\n",
       "\n",
       "    .dataframe thead th {\n",
       "        text-align: right;\n",
       "    }\n",
       "</style>\n",
       "<table border=\"1\" class=\"dataframe\">\n",
       "  <thead>\n",
       "    <tr style=\"text-align: right;\">\n",
       "      <th></th>\n",
       "      <th>text</th>\n",
       "      <th>emotion</th>\n",
       "    </tr>\n",
       "  </thead>\n",
       "  <tbody>\n",
       "    <tr>\n",
       "      <th>count</th>\n",
       "      <td>16000</td>\n",
       "      <td>16000</td>\n",
       "    </tr>\n",
       "    <tr>\n",
       "      <th>unique</th>\n",
       "      <td>15969</td>\n",
       "      <td>6</td>\n",
       "    </tr>\n",
       "    <tr>\n",
       "      <th>top</th>\n",
       "      <td>i feel on the verge of tears from weariness i ...</td>\n",
       "      <td>joy</td>\n",
       "    </tr>\n",
       "    <tr>\n",
       "      <th>freq</th>\n",
       "      <td>2</td>\n",
       "      <td>5362</td>\n",
       "    </tr>\n",
       "  </tbody>\n",
       "</table>\n",
       "</div>"
      ],
      "text/plain": [
       "                                                     text emotion\n",
       "count                                               16000   16000\n",
       "unique                                              15969       6\n",
       "top     i feel on the verge of tears from weariness i ...     joy\n",
       "freq                                                    2    5362"
      ]
     },
     "execution_count": 8,
     "metadata": {},
     "output_type": "execute_result"
    }
   ],
   "source": [
    "train_data.describe()"
   ]
  },
  {
   "cell_type": "code",
   "execution_count": 9,
   "metadata": {},
   "outputs": [
    {
     "data": {
      "text/plain": [
       "<Axes: xlabel='emotion'>"
      ]
     },
     "execution_count": 9,
     "metadata": {},
     "output_type": "execute_result"
    },
    {
     "data": {
      "image/png": "[encoded data removed]",
      "text/plain": [
       "<Figure size 640x480 with 1 Axes>"
      ]
     },
     "metadata": {},
     "output_type": "display_data"
    }
   ],
   "source": [
    "train_data['emotion'].value_counts().plot(kind='bar')"
   ]
  },
  {
   "cell_type": "code",
   "execution_count": 10,
   "metadata": {},
   "outputs": [],
   "source": [
    "emotions_map = {\n",
    "    'joy': 0,\n",
    "    'sadness': 1,\n",
    "    'anger': 2,\n",
    "    'fear': 3,\n",
    "    'love': 4,\n",
    "    'surprise': 5,\n",
    "}"
   ]
  },
  {
   "cell_type": "code",
   "execution_count": 11,
   "metadata": {},
   "outputs": [],
   "source": [
    "train_data[\"emotion\"] = train_data[\"emotion\"].map(emotions_map)\n",
    "test_data[\"emotion\"] = test_data[\"emotion\"].map(emotions_map)\n",
    "val_data[\"emotion\"] = val_data[\"emotion\"].map(emotions_map)"
   ]
  },
  {
   "cell_type": "code",
   "execution_count": 12,
   "metadata": {},
   "outputs": [
    {
     "data": {
      "text/html": [
       "<div>\n",
       "<style scoped>\n",
       "    .dataframe tbody tr th:only-of-type {\n",
       "        vertical-align: middle;\n",
       "    }\n",
       "\n",
       "    .dataframe tbody tr th {\n",
       "        vertical-align: top;\n",
       "    }\n",
       "\n",
       "    .dataframe thead th {\n",
       "        text-align: right;\n",
       "    }\n",
       "</style>\n",
       "<table border=\"1\" class=\"dataframe\">\n",
       "  <thead>\n",
       "    <tr style=\"text-align: right;\">\n",
       "      <th></th>\n",
       "      <th>text</th>\n",
       "      <th>emotion</th>\n",
       "    </tr>\n",
       "  </thead>\n",
       "  <tbody>\n",
       "    <tr>\n",
       "      <th>0</th>\n",
       "      <td>i didnt feel humiliated</td>\n",
       "      <td>1</td>\n",
       "    </tr>\n",
       "    <tr>\n",
       "      <th>1</th>\n",
       "      <td>i can go from feeling so hopeless to so damned...</td>\n",
       "      <td>1</td>\n",
       "    </tr>\n",
       "    <tr>\n",
       "      <th>2</th>\n",
       "      <td>im grabbing a minute to post i feel greedy wrong</td>\n",
       "      <td>2</td>\n",
       "    </tr>\n",
       "    <tr>\n",
       "      <th>3</th>\n",
       "      <td>i am ever feeling nostalgic about the fireplac...</td>\n",
       "      <td>4</td>\n",
       "    </tr>\n",
       "    <tr>\n",
       "      <th>4</th>\n",
       "      <td>i am feeling grouchy</td>\n",
       "      <td>2</td>\n",
       "    </tr>\n",
       "  </tbody>\n",
       "</table>\n",
       "</div>"
      ],
      "text/plain": [
       "                                                text  emotion\n",
       "0                            i didnt feel humiliated        1\n",
       "1  i can go from feeling so hopeless to so damned...        1\n",
       "2   im grabbing a minute to post i feel greedy wrong        2\n",
       "3  i am ever feeling nostalgic about the fireplac...        4\n",
       "4                               i am feeling grouchy        2"
      ]
     },
     "execution_count": 12,
     "metadata": {},
     "output_type": "execute_result"
    }
   ],
   "source": [
    "train_data.head()"
   ]
  },
  {
   "cell_type": "code",
   "execution_count": 14,
   "metadata": {},
   "outputs": [],
   "source": [
    "# stopword removal\n",
    "from nltk.corpus import stopwords\n",
    "from nltk.tokenize import word_tokenize\n",
    "\n",
    "\n",
    "def remove_stopwords(text):\n",
    "    stop_words = set(stopwords.words('english'))\n",
    "    word_tokens = word_tokenize(text)\n",
    "    filtered_text = [word for word in word_tokens if word not in stop_words]\n",
    "    return ' '.join(filtered_text)"
   ]
  },
  {
   "cell_type": "code",
   "execution_count": 15,
   "metadata": {},
   "outputs": [],
   "source": [
    "# remove from df\n",
    "train_data['text'] = train_data['text'].apply(remove_stopwords)\n",
    "test_data['text'] = test_data['text'].apply(remove_stopwords)\n",
    "val_data['text'] = val_data['text'].apply(remove_stopwords)"
   ]
  },
  {
   "cell_type": "code",
   "execution_count": 46,
   "metadata": {},
   "outputs": [],
   "source": [
    "from tensorflow.keras.preprocessing.sequence import pad_sequences\n",
    "from tensorflow.keras.models import Sequential\n",
    "from tensorflow.keras.layers import Embedding, LSTM, Dense, Conv1D, MaxPooling1D, GlobalMaxPooling1D, Dropout, SpatialDropout1D, Input\n",
    "from tensorflow.keras.preprocessing.text import Tokenizer"
   ]
  },
  {
   "cell_type": "code",
   "execution_count": 18,
   "metadata": {},
   "outputs": [],
   "source": [
    "from collections import Counter\n",
    "texts = train_data['text'].to_list()\n",
    "# Tokenization without setting num_words\n",
    "tokenizer = Tokenizer()\n",
    "tokenizer.fit_on_texts(texts)\n",
    "\n",
    "# Word frequencies\n",
    "word_counts = tokenizer.word_counts\n",
    "\n",
    "# Sort word frequencies in descending order\n",
    "sorted_word_counts = sorted(\n",
    "    word_counts.items(), key=lambda x: x[1], reverse=True)"
   ]
  },
  {
   "cell_type": "code",
   "execution_count": 19,
   "metadata": {},
   "outputs": [
    {
     "data": {
      "text/plain": [
       "[('feel', 11183),\n",
       " ('feeling', 5112),\n",
       " ('like', 2908),\n",
       " ('im', 2430),\n",
       " ('really', 942),\n",
       " ('know', 853),\n",
       " ('time', 794),\n",
       " ('get', 740),\n",
       " ('little', 736),\n",
       " ('people', 654)]"
      ]
     },
     "execution_count": 19,
     "metadata": {},
     "output_type": "execute_result"
    }
   ],
   "source": [
    "sorted_word_counts[:10]"
   ]
  },
  {
   "cell_type": "code",
   "execution_count": 34,
   "metadata": {},
   "outputs": [],
   "source": [
    "# Tokenizer\n",
    "\n",
    "# our num_words will be 11,183\n",
    "\n",
    "filter = '!\"#$%&()*+,-./:;<=>?@[\\\\]^_`{|}~\\t\\n'\n",
    "tokenizer = Tokenizer(num_words=11183, filters=filter, lower=True)\n",
    "tokenizer.fit_on_texts(train_data['text'])"
   ]
  },
  {
   "cell_type": "markdown",
   "metadata": {},
   "source": []
  },
  {
   "cell_type": "code",
   "execution_count": 35,
   "metadata": {},
   "outputs": [],
   "source": [
    "X_train_seq = tokenizer.texts_to_sequences(train_data['text'])\n",
    "X_val_seq = tokenizer.texts_to_sequences(val_data['text'])\n",
    "X_test_seq = tokenizer.texts_to_sequences(test_data['text'])"
   ]
  },
  {
   "cell_type": "code",
   "execution_count": 36,
   "metadata": {},
   "outputs": [
    {
     "data": {
      "image/png": "[encoded data removed]",
      "text/plain": [
       "<Figure size 640x480 with 1 Axes>"
      ]
     },
     "metadata": {},
     "output_type": "display_data"
    }
   ],
   "source": [
    "import matplotlib.pyplot as plt\n",
    "sequence_lengths = [len(seq) for seq in X_train_seq]\n",
    "plt.hist(sequence_lengths, bins=30)\n",
    "plt.xlabel('Sequence Length')\n",
    "plt.ylabel('Frequency')\n",
    "plt.title('Distribution of Sentence Lengths')\n",
    "plt.show()"
   ]
  },
  {
   "cell_type": "code",
   "execution_count": 37,
   "metadata": {},
   "outputs": [],
   "source": [
    "# Pad sequences to ensure uniform length\n",
    "max_length = 35\n",
    "\n",
    "X_train_padded = pad_sequences(X_train_seq, maxlen=max_length, padding='post')\n",
    "X_val_padded = pad_sequences(X_val_seq, maxlen=max_length, padding='post')\n",
    "X_test_padded = pad_sequences(X_test_seq, maxlen=max_length, padding='post')"
   ]
  },
  {
   "cell_type": "code",
   "execution_count": 52,
   "metadata": {},
   "outputs": [
    {
     "name": "stdout",
     "output_type": "stream",
     "text": [
      "WARNING:tensorflow:From c:\\Users\\Abdulmunim\\Desktop\\emotika\\.venv\\Lib\\site-packages\\keras\\src\\optimizers\\__init__.py:309: The name tf.train.Optimizer is deprecated. Please use tf.compat.v1.train.Optimizer instead.\n",
      "\n",
      "Model: \"sequential_12\"\n",
      "_________________________________________________________________\n",
      " Layer (type)                Output Shape              Param #   \n",
      "=================================================================\n",
      " embedding_14 (Embedding)    (None, 35, 128)           1928064   \n",
      "                                                                 \n",
      " spatial_dropout1d_13 (Spat  (None, 35, 128)           0         \n",
      " ialDropout1D)                                                   \n",
      "                                                                 \n",
      " lstm1 (LSTM)                (None, 35, 128)           131584    \n",
      "                                                                 \n",
      " conv1d1 (Conv1D)            (None, 9, 128)            163968    \n",
      "                                                                 \n",
      " dropout1 (Dropout)          (None, 9, 128)            0         \n",
      "                                                                 \n",
      " lstm2 (LSTM)                (None, 9, 128)            131584    \n",
      "                                                                 \n",
      " dropout2 (Dropout)          (None, 9, 128)            0         \n",
      "                                                                 \n",
      " global_max_pooling1d_12 (G  (None, 128)               0         \n",
      " lobalMaxPooling1D)                                              \n",
      "                                                                 \n",
      " dense_12 (Dense)            (None, 6)                 774       \n",
      "                                                                 \n",
      "=================================================================\n",
      "Total params: 2355974 (8.99 MB)\n",
      "Trainable params: 2355974 (8.99 MB)\n",
      "Non-trainable params: 0 (0.00 Byte)\n",
      "_________________________________________________________________\n"
     ]
    }
   ],
   "source": [
    "model = Sequential([\n",
    "    Input(shape=(max_length,)),\n",
    "    Embedding(input_dim=len(tokenizer.word_index)+1,\n",
    "              output_dim=128, input_length=max_length),\n",
    "    SpatialDropout1D(0.5),\n",
    "    LSTM(128, dropout=0.5, recurrent_dropout=0.5,\n",
    "         name='lstm1', return_sequences=True),\n",
    "    Conv1D(filters=128, kernel_size=10, strides=3,\n",
    "           padding=\"valid\", activation='relu', name='conv1d1'),\n",
    "    Dropout(0.5, name='dropout1'),\n",
    "    LSTM(128, dropout=0.5, recurrent_dropout=0.5,\n",
    "         name='lstm2', return_sequences=True),\n",
    "    # Conv1D(filters=128, kernel_size=10, strides=3, padding=\"valid\", activation='relu', name='conv1d2'),\n",
    "    Dropout(0.5, name='dropout2'),\n",
    "    GlobalMaxPooling1D(),\n",
    "    Dense(len(emotions_map), activation='softmax')\n",
    "])\n",
    "\n",
    "# Compile the model\n",
    "model.compile(loss='sparse_categorical_crossentropy',\n",
    "              optimizer='adam', metrics=['accuracy'])\n",
    "\n",
    "model.summary()"
   ]
  },
  {
   "cell_type": "code",
   "execution_count": 54,
   "metadata": {},
   "outputs": [
    {
     "name": "stdout",
     "output_type": "stream",
     "text": [
      "Epoch 1/10\n",
      "WARNING:tensorflow:From c:\\Users\\Abdulmunim\\Desktop\\emotika\\.venv\\Lib\\site-packages\\keras\\src\\utils\\tf_utils.py:492: The name tf.ragged.RaggedTensorValue is deprecated. Please use tf.compat.v1.ragged.RaggedTensorValue instead.\n",
      "\n",
      "WARNING:tensorflow:From c:\\Users\\Abdulmunim\\Desktop\\emotika\\.venv\\Lib\\site-packages\\keras\\src\\engine\\base_layer_utils.py:384: The name tf.executing_eagerly_outside_functions is deprecated. Please use tf.compat.v1.executing_eagerly_outside_functions instead.\n",
      "\n",
      "125/125 [==============================] - 29s 146ms/step - loss: 1.5423 - accuracy: 0.3356 - val_loss: 1.3565 - val_accuracy: 0.4175\n",
      "Epoch 2/10\n",
      "125/125 [==============================] - 17s 132ms/step - loss: 1.1625 - accuracy: 0.4673 - val_loss: 1.0639 - val_accuracy: 0.6475\n",
      "Epoch 3/10\n",
      "125/125 [==============================] - 16s 129ms/step - loss: 0.7600 - accuracy: 0.6916 - val_loss: 0.6900 - val_accuracy: 0.7630\n",
      "Epoch 4/10\n",
      "125/125 [==============================] - 16s 131ms/step - loss: 0.5475 - accuracy: 0.7944 - val_loss: 0.5295 - val_accuracy: 0.8550\n",
      "Epoch 5/10\n",
      "125/125 [==============================] - 16s 132ms/step - loss: 0.3971 - accuracy: 0.8641 - val_loss: 0.4288 - val_accuracy: 0.8925\n",
      "Epoch 6/10\n",
      "125/125 [==============================] - 16s 132ms/step - loss: 0.2993 - accuracy: 0.9010 - val_loss: 0.3547 - val_accuracy: 0.9025\n",
      "Epoch 7/10\n",
      "125/125 [==============================] - 17s 132ms/step - loss: 0.2343 - accuracy: 0.9207 - val_loss: 0.2969 - val_accuracy: 0.9120\n",
      "Epoch 8/10\n",
      "125/125 [==============================] - 16s 129ms/step - loss: 0.2025 - accuracy: 0.9342 - val_loss: 0.2719 - val_accuracy: 0.9095\n",
      "Epoch 9/10\n",
      "125/125 [==============================] - 17s 132ms/step - loss: 0.1660 - accuracy: 0.9448 - val_loss: 0.2495 - val_accuracy: 0.9170\n",
      "Epoch 10/10\n",
      "125/125 [==============================] - 16s 127ms/step - loss: 0.1438 - accuracy: 0.9513 - val_loss: 0.2343 - val_accuracy: 0.9225\n"
     ]
    }
   ],
   "source": [
    "# Train the model\n",
    "history = model.fit(X_train_padded, train_data[\"emotion\"], batch_size=128,\n",
    "                    epochs=10, validation_data=(X_val_padded, val_data[\"emotion\"]))"
   ]
  },
  {
   "cell_type": "code",
   "execution_count": 62,
   "metadata": {},
   "outputs": [
    {
     "data": {
      "image/png": "[encoded data removed]",
      "text/plain": [
       "<Figure size 640x480 with 1 Axes>"
      ]
     },
     "metadata": {},
     "output_type": "display_data"
    },
    {
     "data": {
      "image/png": "[encoded data removed]",
      "text/plain": [
       "<Figure size 640x480 with 1 Axes>"
      ]
     },
     "metadata": {},
     "output_type": "display_data"
    }
   ],
   "source": [
    "plot_training_history(history)"
   ]
  },
  {
   "cell_type": "code",
   "execution_count": 55,
   "metadata": {},
   "outputs": [],
   "source": [
    "# Accuracy Time\n",
    "from sklearn.metrics import classification_report, accuracy_score"
   ]
  },
  {
   "cell_type": "code",
   "execution_count": 57,
   "metadata": {},
   "outputs": [
    {
     "name": "stdout",
     "output_type": "stream",
     "text": [
      "63/63 [==============================] - 2s 15ms/step\n"
     ]
    }
   ],
   "source": [
    "y_pred = model.predict(X_test_padded)"
   ]
  },
  {
   "cell_type": "code",
   "execution_count": 59,
   "metadata": {},
   "outputs": [
    {
     "name": "stdout",
     "output_type": "stream",
     "text": [
      "              precision    recall  f1-score   support\n",
      "\n",
      "           0       0.94      0.94      0.94       695\n",
      "           1       0.97      0.96      0.96       581\n",
      "           2       0.93      0.94      0.93       275\n",
      "           3       0.84      0.90      0.87       224\n",
      "           4       0.84      0.79      0.81       159\n",
      "           5       0.75      0.70      0.72        66\n",
      "\n",
      "    accuracy                           0.92      2000\n",
      "   macro avg       0.88      0.87      0.87      2000\n",
      "weighted avg       0.92      0.92      0.92      2000\n",
      "\n"
     ]
    }
   ],
   "source": [
    "print(classification_report(test_data[\"emotion\"], y_pred.argmax(axis=1)))"
   ]
  },
  {
   "cell_type": "code",
   "execution_count": 63,
   "metadata": {},
   "outputs": [],
   "source": [
    "def save_model(model, model_name):\n",
    "    model.save(f'models/{model_name}.h5')\n",
    "    print(f'Model saved as {model_name}.h5')"
   ]
  },
  {
   "cell_type": "code",
   "execution_count": 64,
   "metadata": {},
   "outputs": [
    {
     "name": "stdout",
     "output_type": "stream",
     "text": [
      "Model saved as NN_model.h5\n"
     ]
    },
    {
     "name": "stderr",
     "output_type": "stream",
     "text": [
      "c:\\Users\\Abdulmunim\\Desktop\\emotika\\.venv\\Lib\\site-packages\\keras\\src\\engine\\training.py:3103: UserWarning: You are saving your model as an HDF5 file via `model.save()`. This file format is considered legacy. We recommend using instead the native Keras format, e.g. `model.save('my_model.keras')`.\n",
      "  saving_api.save_model(\n"
     ]
    }
   ],
   "source": [
    "save_model(model, 'NN_model')"
   ]
  },
  {
   "cell_type": "code",
   "execution_count": 65,
   "metadata": {},
   "outputs": [],
   "source": [
    "# save the tokenization and preprocessing\n",
    "\n",
    "import pickle\n",
    "\n",
    "\n",
    "def save_tokenizer(tokenizer, tokenizer_name):\n",
    "    with open(f'tokenizers/{tokenizer_name}.pickle', 'wb') as handle:\n",
    "        pickle.dump(tokenizer, handle, protocol=pickle.HIGHEST_PROTOCOL)\n",
    "    print(f'Tokenizer saved as {tokenizer_name}.pickle')"
   ]
  },
  {
   "cell_type": "code",
   "execution_count": 67,
   "metadata": {},
   "outputs": [
    {
     "name": "stdout",
     "output_type": "stream",
     "text": [
      "Tokenizer saved as NN_tokenizer.pickle\n"
     ]
    }
   ],
   "source": [
    "save_tokenizer(tokenizer, 'NN_tokenizer')"
   ]
  },
  {
   "cell_type": "code",
   "execution_count": null,
   "metadata": {},
   "outputs": [],
   "source": []
  }
 ],
 "metadata": {
  "kernelspec": {
   "display_name": ".venv",
   "language": "python",
   "name": "python3"
  },
  "language_info": {
   "codemirror_mode": {
    "name": "ipython",
    "version": 3
   },
   "file_extension": ".py",
   "mimetype": "text/x-python",
   "name": "python",
   "nbconvert_exporter": "python",
   "pygments_lexer": "ipython3",
   "version": "3.11.5"
  }
 },
 "nbformat": 4,
 "nbformat_minor": 2
}
