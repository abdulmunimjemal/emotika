{
 "cells": [
  {
   "cell_type": "markdown",
   "metadata": {},
   "source": [
    "## Emotika: Emotion Detection in Text\n"
   ]
  },
  {
   "cell_type": "code",
   "execution_count": 1,
   "metadata": {},
   "outputs": [
    {
     "name": "stdout",
     "output_type": "stream",
     "text": [
      "WARNING:tensorflow:From c:\\Users\\Abdulmunim\\Desktop\\Dallol-i Projects\\emotika\\.venv\\Lib\\site-packages\\keras\\src\\losses.py:2976: The name tf.losses.sparse_softmax_cross_entropy is deprecated. Please use tf.compat.v1.losses.sparse_softmax_cross_entropy instead.\n",
      "\n"
     ]
    }
   ],
   "source": [
    "import pandas as pd\n",
    "import numpy as np\n",
    "import matplotlib.pyplot as plt\n",
    "\n",
    "# stopword removal\n",
    "import nltk\n",
    "from nltk.corpus import stopwords\n",
    "from nltk.tokenize import word_tokenize\n",
    "\n",
    "from tensorflow.keras.preprocessing.sequence import pad_sequences\n",
    "from tensorflow.keras.models import Sequential\n",
    "from tensorflow.keras.layers import Embedding, LSTM, Dense, Conv1D, MaxPooling1D, GlobalMaxPooling1D, Dropout, SpatialDropout1D, Input\n",
    "from tensorflow.keras.preprocessing.text import Tokenizer\n",
    "from tensorflow.keras.utils import to_categorical"
   ]
  },
  {
   "cell_type": "code",
   "execution_count": 2,
   "metadata": {},
   "outputs": [],
   "source": [
    "def plot_training_history(history):\n",
    "    # Plot training & validation accuracy values\n",
    "    plt.plot(history.history['accuracy'])\n",
    "    plt.plot(history.history['val_accuracy'])\n",
    "    plt.title('Model accuracy')\n",
    "    plt.xlabel('Epoch')\n",
    "    plt.ylabel('Accuracy')\n",
    "    plt.legend(['Train', 'Validation'], loc='upper left')\n",
    "    plt.show()\n",
    "\n",
    "    # Plot training & validation loss values\n",
    "    plt.plot(history.history['loss'])\n",
    "    plt.plot(history.history['val_loss'])\n",
    "    plt.title('Model loss')\n",
    "    plt.xlabel('Epoch')\n",
    "    plt.ylabel('Loss')\n",
    "    plt.legend(['Train', 'Validation'], loc='upper left')\n",
    "    plt.show()"
   ]
  },
  {
   "cell_type": "code",
   "execution_count": 3,
   "metadata": {},
   "outputs": [
    {
     "data": {
      "text/html": [
       "<div>\n",
       "<style scoped>\n",
       "    .dataframe tbody tr th:only-of-type {\n",
       "        vertical-align: middle;\n",
       "    }\n",
       "\n",
       "    .dataframe tbody tr th {\n",
       "        vertical-align: top;\n",
       "    }\n",
       "\n",
       "    .dataframe thead th {\n",
       "        text-align: right;\n",
       "    }\n",
       "</style>\n",
       "<table border=\"1\" class=\"dataframe\">\n",
       "  <thead>\n",
       "    <tr style=\"text-align: right;\">\n",
       "      <th></th>\n",
       "      <th>text</th>\n",
       "      <th>emotion</th>\n",
       "    </tr>\n",
       "  </thead>\n",
       "  <tbody>\n",
       "    <tr>\n",
       "      <th>count</th>\n",
       "      <td>16000</td>\n",
       "      <td>16000</td>\n",
       "    </tr>\n",
       "    <tr>\n",
       "      <th>unique</th>\n",
       "      <td>15969</td>\n",
       "      <td>6</td>\n",
       "    </tr>\n",
       "    <tr>\n",
       "      <th>top</th>\n",
       "      <td>i feel on the verge of tears from weariness i ...</td>\n",
       "      <td>joy</td>\n",
       "    </tr>\n",
       "    <tr>\n",
       "      <th>freq</th>\n",
       "      <td>2</td>\n",
       "      <td>5362</td>\n",
       "    </tr>\n",
       "  </tbody>\n",
       "</table>\n",
       "</div>"
      ],
      "text/plain": [
       "                                                     text emotion\n",
       "count                                               16000   16000\n",
       "unique                                              15969       6\n",
       "top     i feel on the verge of tears from weariness i ...     joy\n",
       "freq                                                    2    5362"
      ]
     },
     "execution_count": 3,
     "metadata": {},
     "output_type": "execute_result"
    }
   ],
   "source": [
    "train_data = pd.read_csv('data/raw/train.txt', sep=';',\n",
    "                         header=None, names=['text', 'emotion'])\n",
    "test_data = pd.read_csv('data/raw/test.txt', sep=';',\n",
    "                        header=None, names=['text', 'emotion'])\n",
    "val_data = pd.read_csv('data/raw/val.txt', sep=';',\n",
    "                       header=None, names=['text', 'emotion'])\n",
    "\n",
    "train_data.describe()"
   ]
  },
  {
   "cell_type": "code",
   "execution_count": 4,
   "metadata": {},
   "outputs": [
    {
     "data": {
      "text/plain": [
       "<Axes: xlabel='emotion'>"
      ]
     },
     "execution_count": 4,
     "metadata": {},
     "output_type": "execute_result"
    },
    {
     "data": {
      "image/png": "[encoded data removed]",
      "text/plain": [
       "<Figure size 640x480 with 1 Axes>"
      ]
     },
     "metadata": {},
     "output_type": "display_data"
    }
   ],
   "source": [
    "train_data['emotion'].value_counts().plot(kind='bar')"
   ]
  },
  {
   "cell_type": "code",
   "execution_count": 5,
   "metadata": {},
   "outputs": [],
   "source": [
    "emotions_map = {\n",
    "    'joy': 0,\n",
    "    'sadness': 1,\n",
    "    'anger': 2,\n",
    "    'fear': 3,\n",
    "    'love': 4,\n",
    "    'surprise': 5,\n",
    "}"
   ]
  },
  {
   "cell_type": "code",
   "execution_count": 6,
   "metadata": {},
   "outputs": [
    {
     "data": {
      "text/html": [
       "<div>\n",
       "<style scoped>\n",
       "    .dataframe tbody tr th:only-of-type {\n",
       "        vertical-align: middle;\n",
       "    }\n",
       "\n",
       "    .dataframe tbody tr th {\n",
       "        vertical-align: top;\n",
       "    }\n",
       "\n",
       "    .dataframe thead th {\n",
       "        text-align: right;\n",
       "    }\n",
       "</style>\n",
       "<table border=\"1\" class=\"dataframe\">\n",
       "  <thead>\n",
       "    <tr style=\"text-align: right;\">\n",
       "      <th></th>\n",
       "      <th>text</th>\n",
       "      <th>emotion</th>\n",
       "    </tr>\n",
       "  </thead>\n",
       "  <tbody>\n",
       "    <tr>\n",
       "      <th>0</th>\n",
       "      <td>i didnt feel humiliated</td>\n",
       "      <td>1</td>\n",
       "    </tr>\n",
       "    <tr>\n",
       "      <th>1</th>\n",
       "      <td>i can go from feeling so hopeless to so damned...</td>\n",
       "      <td>1</td>\n",
       "    </tr>\n",
       "    <tr>\n",
       "      <th>2</th>\n",
       "      <td>im grabbing a minute to post i feel greedy wrong</td>\n",
       "      <td>2</td>\n",
       "    </tr>\n",
       "    <tr>\n",
       "      <th>3</th>\n",
       "      <td>i am ever feeling nostalgic about the fireplac...</td>\n",
       "      <td>4</td>\n",
       "    </tr>\n",
       "    <tr>\n",
       "      <th>4</th>\n",
       "      <td>i am feeling grouchy</td>\n",
       "      <td>2</td>\n",
       "    </tr>\n",
       "  </tbody>\n",
       "</table>\n",
       "</div>"
      ],
      "text/plain": [
       "                                                text  emotion\n",
       "0                            i didnt feel humiliated        1\n",
       "1  i can go from feeling so hopeless to so damned...        1\n",
       "2   im grabbing a minute to post i feel greedy wrong        2\n",
       "3  i am ever feeling nostalgic about the fireplac...        4\n",
       "4                               i am feeling grouchy        2"
      ]
     },
     "execution_count": 6,
     "metadata": {},
     "output_type": "execute_result"
    }
   ],
   "source": [
    "train_data[\"emotion\"] = train_data[\"emotion\"].map(emotions_map)\n",
    "test_data[\"emotion\"] = test_data[\"emotion\"].map(emotions_map)\n",
    "val_data[\"emotion\"] = val_data[\"emotion\"].map(emotions_map)\n",
    "\n",
    "train_data.head()"
   ]
  },
  {
   "cell_type": "code",
   "execution_count": 7,
   "metadata": {},
   "outputs": [
    {
     "name": "stderr",
     "output_type": "stream",
     "text": [
      "[nltk_data] Downloading package punkt to\n",
      "[nltk_data]     C:\\Users\\Abdulmunim\\AppData\\Roaming\\nltk_data...\n",
      "[nltk_data]   Package punkt is already up-to-date!\n"
     ]
    },
    {
     "data": {
      "text/plain": [
       "True"
      ]
     },
     "execution_count": 7,
     "metadata": {},
     "output_type": "execute_result"
    }
   ],
   "source": [
    "nltk.download('punkt')"
   ]
  },
  {
   "cell_type": "code",
   "execution_count": 8,
   "metadata": {},
   "outputs": [],
   "source": [
    "def remove_stopwords(text):\n",
    "    stop_words = set(stopwords.words('english'))\n",
    "    word_tokens = word_tokenize(text)\n",
    "    filtered_text = [word for word in word_tokens if word not in stop_words]\n",
    "    return ' '.join(filtered_text)"
   ]
  },
  {
   "cell_type": "code",
   "execution_count": 9,
   "metadata": {},
   "outputs": [],
   "source": [
    "# remove from df\n",
    "train_data['text'] = train_data['text'].apply(remove_stopwords)\n",
    "test_data['text'] = test_data['text'].apply(remove_stopwords)\n",
    "val_data['text'] = val_data['text'].apply(remove_stopwords)"
   ]
  },
  {
   "cell_type": "code",
   "execution_count": 10,
   "metadata": {},
   "outputs": [],
   "source": [
    "# Tokenizer\n",
    "\n",
    "filter = '!\"#$%&()*+,-./:;<=>?@[\\\\]^_`{|}~\\t\\n'\n",
    "tokenizer = Tokenizer(filters=filter, lower=True)\n",
    "tokenizer.fit_on_texts(train_data['text'])\n",
    "\n",
    "word2index = tokenizer.word_index"
   ]
  },
  {
   "cell_type": "code",
   "execution_count": 11,
   "metadata": {},
   "outputs": [],
   "source": [
    "X_train_seq = tokenizer.texts_to_sequences(train_data['text'])\n",
    "X_val_seq = tokenizer.texts_to_sequences(val_data['text'])\n",
    "X_test_seq = tokenizer.texts_to_sequences(test_data['text'])"
   ]
  },
  {
   "cell_type": "code",
   "execution_count": 20,
   "metadata": {},
   "outputs": [],
   "source": [
    "def get_max_length(X):\n",
    "    return max([len(x) for x in X])\n",
    "\n",
    "\n",
    "max_length = 50  # get_max_length(X_train_seq)"
   ]
  },
  {
   "cell_type": "code",
   "execution_count": 37,
   "metadata": {},
   "outputs": [],
   "source": [
    "# Pad sequences to ensure uniform length\n",
    "\n",
    "X_train_padded = pad_sequences(X_train_seq, maxlen=max_length, padding='post')\n",
    "X_val_padded = pad_sequences(X_val_seq, maxlen=max_length, padding='post')\n",
    "X_test_padded = pad_sequences(X_test_seq, maxlen=max_length, padding='post')\n",
    "\n",
    "y_train = to_categorical(train_data['emotion'].values)\n",
    "y_val = to_categorical(val_data['emotion'].values)\n",
    "y_test = to_categorical(test_data['emotion'].values)"
   ]
  },
  {
   "cell_type": "code",
   "execution_count": 38,
   "metadata": {},
   "outputs": [
    {
     "name": "stdout",
     "output_type": "stream",
     "text": [
      "(16000, 6) (2000, 6) (2000, 6)\n",
      "(16000, 50) (2000, 50) (2000, 50)\n"
     ]
    }
   ],
   "source": [
    "print(y_train.shape, y_val.shape, y_test.shape)\n",
    "# the x too\n",
    "print(X_train_padded.shape, X_val_padded.shape, X_test_padded.shape)"
   ]
  },
  {
   "cell_type": "markdown",
   "metadata": {},
   "source": [
    "## Embeddings\n"
   ]
  },
  {
   "cell_type": "code",
   "execution_count": 22,
   "metadata": {},
   "outputs": [],
   "source": [
    "content = []\n",
    "with open(\"models/pretrained/glove.6B.100d.txt\", \"r\", encoding=\"utf-8\") as f:\n",
    "    content = f.readlines()\n",
    "\n",
    "embeddings_index = {}\n",
    "for line in content:\n",
    "    values = line.split()\n",
    "    word = values[0]\n",
    "    coefs = np.asarray(values[1:], dtype='float32')\n",
    "    embeddings_index[word] = coefs"
   ]
  },
  {
   "cell_type": "code",
   "execution_count": 23,
   "metadata": {},
   "outputs": [],
   "source": [
    "embed_size = 100\n",
    "embeddings_matrix = np.zeros((len(word2index) + 1, embed_size))\n",
    "\n",
    "for word, i in word2index.items():\n",
    "    embedding_vector = embeddings_index.get(word)\n",
    "    if embedding_vector is not None:\n",
    "        embeddings_matrix[i] = embedding_vector"
   ]
  },
  {
   "cell_type": "code",
   "execution_count": 41,
   "metadata": {},
   "outputs": [
    {
     "name": "stdout",
     "output_type": "stream",
     "text": [
      "Model: \"sequential_7\"\n",
      "_________________________________________________________________\n",
      " Layer (type)                Output Shape              Param #   \n",
      "=================================================================\n",
      " embedding_7 (Embedding)     (None, 50, 100)           1506300   \n",
      "                                                                 \n",
      " spatial_dropout1d_7 (Spati  (None, 50, 100)           0         \n",
      " alDropout1D)                                                    \n",
      "                                                                 \n",
      " lstm1 (LSTM)                (None, 50, 128)           117248    \n",
      "                                                                 \n",
      " conv1d1 (Conv1D)            (None, 14, 128)           163968    \n",
      "                                                                 \n",
      " dropout1 (Dropout)          (None, 14, 128)           0         \n",
      "                                                                 \n",
      " lstm2 (LSTM)                (None, 14, 128)           131584    \n",
      "                                                                 \n",
      " conv1d2 (Conv1D)            (None, 2, 128)            163968    \n",
      "                                                                 \n",
      " dropout2 (Dropout)          (None, 2, 128)            0         \n",
      "                                                                 \n",
      " global_max_pooling1d_7 (Gl  (None, 128)               0         \n",
      " obalMaxPooling1D)                                               \n",
      "                                                                 \n",
      " dense_7 (Dense)             (None, 6)                 774       \n",
      "                                                                 \n",
      "=================================================================\n",
      "Total params: 2083842 (7.95 MB)\n",
      "Trainable params: 2083842 (7.95 MB)\n",
      "Non-trainable params: 0 (0.00 Byte)\n",
      "_________________________________________________________________\n"
     ]
    }
   ],
   "source": [
    "model = Sequential([\n",
    "    Embedding(input_dim=len(word2index)+1,\n",
    "              output_dim=embed_size,\n",
    "              input_length=max_length,\n",
    "              weights=[embeddings_matrix],\n",
    "              ),\n",
    "    SpatialDropout1D(0.5),\n",
    "    LSTM(128, dropout=0.5, recurrent_dropout=0.5,\n",
    "         name='lstm1', return_sequences=True),\n",
    "    Conv1D(filters=128, kernel_size=10, strides=3,\n",
    "           padding=\"valid\", activation='relu', name='conv1d1'),\n",
    "    Dropout(0.5, name='dropout1'),\n",
    "    LSTM(128, dropout=0.5, recurrent_dropout=0.5,\n",
    "         name='lstm2', return_sequences=True),\n",
    "    Conv1D(filters=128, kernel_size=10, strides=3,\n",
    "           padding=\"valid\", activation='relu', name='conv1d2'),\n",
    "    Dropout(0.5, name='dropout2'),\n",
    "    GlobalMaxPooling1D(),\n",
    "    Dense(len(emotions_map), activation='softmax')\n",
    "])\n",
    "\n",
    "# Compile the model\n",
    "model.compile(loss='categorical_crossentropy',\n",
    "              optimizer='adam', metrics=['accuracy'])\n",
    "\n",
    "model.summary()"
   ]
  },
  {
   "cell_type": "code",
   "execution_count": 42,
   "metadata": {},
   "outputs": [
    {
     "name": "stdout",
     "output_type": "stream",
     "text": [
      "Epoch 1/25\n",
      "125/125 [==============================] - 25s 154ms/step - loss: 1.5304 - accuracy: 0.4045 - val_loss: 1.3389 - val_accuracy: 0.5370\n",
      "Epoch 2/25\n",
      "125/125 [==============================] - 18s 146ms/step - loss: 1.3968 - accuracy: 0.4701 - val_loss: 1.1631 - val_accuracy: 0.6215\n",
      "Epoch 3/25\n",
      "125/125 [==============================] - 18s 143ms/step - loss: 1.2155 - accuracy: 0.5496 - val_loss: 0.8911 - val_accuracy: 0.7010\n",
      "Epoch 4/25\n",
      "125/125 [==============================] - 17s 139ms/step - loss: 1.0097 - accuracy: 0.6355 - val_loss: 0.5758 - val_accuracy: 0.7945\n",
      "Epoch 5/25\n",
      "125/125 [==============================] - 18s 145ms/step - loss: 0.7690 - accuracy: 0.7301 - val_loss: 0.3979 - val_accuracy: 0.8620\n",
      "Epoch 6/25\n",
      "125/125 [==============================] - 18s 144ms/step - loss: 0.5874 - accuracy: 0.7919 - val_loss: 0.2808 - val_accuracy: 0.9020\n",
      "Epoch 7/25\n",
      "125/125 [==============================] - 18s 140ms/step - loss: 0.4810 - accuracy: 0.8322 - val_loss: 0.2442 - val_accuracy: 0.9195\n",
      "Epoch 8/25\n",
      "125/125 [==============================] - 17s 136ms/step - loss: 0.4100 - accuracy: 0.8597 - val_loss: 0.2271 - val_accuracy: 0.9175\n",
      "Epoch 9/25\n",
      "125/125 [==============================] - 17s 137ms/step - loss: 0.3429 - accuracy: 0.8789 - val_loss: 0.1889 - val_accuracy: 0.9230\n",
      "Epoch 10/25\n",
      "125/125 [==============================] - 18s 141ms/step - loss: 0.3127 - accuracy: 0.8886 - val_loss: 0.1667 - val_accuracy: 0.9270\n",
      "Epoch 11/25\n",
      "125/125 [==============================] - 17s 139ms/step - loss: 0.2891 - accuracy: 0.8940 - val_loss: 0.1586 - val_accuracy: 0.9295\n",
      "Epoch 12/25\n",
      "125/125 [==============================] - 18s 142ms/step - loss: 0.2594 - accuracy: 0.8998 - val_loss: 0.1428 - val_accuracy: 0.9345\n",
      "Epoch 13/25\n",
      "125/125 [==============================] - 18s 146ms/step - loss: 0.2428 - accuracy: 0.9076 - val_loss: 0.1348 - val_accuracy: 0.9355\n",
      "Epoch 14/25\n",
      "125/125 [==============================] - 19s 156ms/step - loss: 0.2208 - accuracy: 0.9169 - val_loss: 0.1293 - val_accuracy: 0.9365\n",
      "Epoch 15/25\n",
      "125/125 [==============================] - 18s 144ms/step - loss: 0.2128 - accuracy: 0.9209 - val_loss: 0.1242 - val_accuracy: 0.9390\n",
      "Epoch 16/25\n",
      "125/125 [==============================] - 19s 151ms/step - loss: 0.2098 - accuracy: 0.9203 - val_loss: 0.1274 - val_accuracy: 0.9375\n",
      "Epoch 17/25\n",
      "125/125 [==============================] - 17s 140ms/step - loss: 0.1936 - accuracy: 0.9243 - val_loss: 0.1193 - val_accuracy: 0.9355\n",
      "Epoch 18/25\n",
      "125/125 [==============================] - 18s 145ms/step - loss: 0.1839 - accuracy: 0.9240 - val_loss: 0.1106 - val_accuracy: 0.9430\n",
      "Epoch 19/25\n",
      "125/125 [==============================] - 17s 138ms/step - loss: 0.1691 - accuracy: 0.9327 - val_loss: 0.1100 - val_accuracy: 0.9395\n",
      "Epoch 20/25\n",
      "125/125 [==============================] - 17s 139ms/step - loss: 0.1660 - accuracy: 0.9296 - val_loss: 0.1131 - val_accuracy: 0.9415\n",
      "Epoch 21/25\n",
      "125/125 [==============================] - 18s 148ms/step - loss: 0.1582 - accuracy: 0.9326 - val_loss: 0.1088 - val_accuracy: 0.9420\n",
      "Epoch 22/25\n",
      "125/125 [==============================] - 19s 152ms/step - loss: 0.1523 - accuracy: 0.9348 - val_loss: 0.1062 - val_accuracy: 0.9410\n",
      "Epoch 23/25\n",
      "125/125 [==============================] - 18s 148ms/step - loss: 0.1502 - accuracy: 0.9339 - val_loss: 0.1026 - val_accuracy: 0.9395\n",
      "Epoch 24/25\n",
      "125/125 [==============================] - 18s 144ms/step - loss: 0.1449 - accuracy: 0.9351 - val_loss: 0.1075 - val_accuracy: 0.9380\n",
      "Epoch 25/25\n",
      "125/125 [==============================] - 19s 148ms/step - loss: 0.1430 - accuracy: 0.9394 - val_loss: 0.1015 - val_accuracy: 0.9425\n"
     ]
    }
   ],
   "source": [
    "# Train the model\n",
    "history = model.fit(X_train_padded, y_train, batch_size=128,\n",
    "                    epochs=25, validation_data=(X_val_padded, y_val))"
   ]
  },
  {
   "cell_type": "code",
   "execution_count": 43,
   "metadata": {},
   "outputs": [
    {
     "data": {
      "image/png": "[encoded data removed]",
      "text/plain": [
       "<Figure size 640x480 with 1 Axes>"
      ]
     },
     "metadata": {},
     "output_type": "display_data"
    },
    {
     "data": {
      "image/png": "[encoded data removed]",
      "text/plain": [
       "<Figure size 640x480 with 1 Axes>"
      ]
     },
     "metadata": {},
     "output_type": "display_data"
    }
   ],
   "source": [
    "plot_training_history(history)"
   ]
  },
  {
   "cell_type": "code",
   "execution_count": 44,
   "metadata": {},
   "outputs": [],
   "source": [
    "# Accuracy Time\n",
    "from sklearn.metrics import classification_report, accuracy_score, confusion_matrix"
   ]
  },
  {
   "cell_type": "code",
   "execution_count": 45,
   "metadata": {},
   "outputs": [
    {
     "name": "stdout",
     "output_type": "stream",
     "text": [
      "63/63 [==============================] - 2s 13ms/step\n"
     ]
    }
   ],
   "source": [
    "y_pred = model.predict(X_test_padded)"
   ]
  },
  {
   "cell_type": "code",
   "execution_count": 46,
   "metadata": {},
   "outputs": [
    {
     "name": "stdout",
     "output_type": "stream",
     "text": [
      "              precision    recall  f1-score   support\n",
      "\n",
      "           0       0.97      0.95      0.96       695\n",
      "           1       0.96      0.98      0.97       581\n",
      "           2       0.93      0.95      0.94       275\n",
      "           3       0.90      0.92      0.91       224\n",
      "           4       0.82      0.88      0.85       159\n",
      "           5       0.90      0.68      0.78        66\n",
      "\n",
      "    accuracy                           0.94      2000\n",
      "   macro avg       0.91      0.89      0.90      2000\n",
      "weighted avg       0.94      0.94      0.94      2000\n",
      "\n"
     ]
    }
   ],
   "source": [
    "print(classification_report(test_data[\"emotion\"], y_pred.argmax(axis=1)))"
   ]
  },
  {
   "cell_type": "code",
   "execution_count": 49,
   "metadata": {},
   "outputs": [
    {
     "data": {
      "text/plain": [
       "array([[657,   1,   2,   0,  30,   5],\n",
       "       [  1, 570,   7,   3,   0,   0],\n",
       "       [  2,  11, 260,   2,   0,   0],\n",
       "       [  0,   8,  10, 206,   0,   0],\n",
       "       [ 19,   0,   0,   0, 140,   0],\n",
       "       [  1,   1,   0,  19,   0,  45]], dtype=int64)"
      ]
     },
     "execution_count": 49,
     "metadata": {},
     "output_type": "execute_result"
    }
   ],
   "source": [
    "confusion_matrix(test_data[\"emotion\"], y_pred.argmax(axis=1))"
   ]
  },
  {
   "cell_type": "code",
   "execution_count": 50,
   "metadata": {},
   "outputs": [],
   "source": [
    "def save_model(model, model_name):\n",
    "    model.save(f'models/{model_name}.h5')\n",
    "    print(f'Model saved as {model_name}.h5')"
   ]
  },
  {
   "cell_type": "code",
   "execution_count": 52,
   "metadata": {},
   "outputs": [
    {
     "name": "stdout",
     "output_type": "stream",
     "text": [
      "Model saved as glove_NN_model.h5\n"
     ]
    }
   ],
   "source": [
    "save_model(model, 'glove_NN_model')"
   ]
  },
  {
   "cell_type": "code",
   "execution_count": 53,
   "metadata": {},
   "outputs": [],
   "source": [
    "# save the tokenization and preprocessing\n",
    "\n",
    "import pickle\n",
    "\n",
    "\n",
    "def save_tokenizer(tokenizer, tokenizer_name):\n",
    "    with open(f'models/{tokenizer_name}.pickle', 'wb') as handle:\n",
    "        pickle.dump(tokenizer, handle, protocol=pickle.HIGHEST_PROTOCOL)\n",
    "    print(f'Tokenizer saved as {tokenizer_name}.pickle')"
   ]
  },
  {
   "cell_type": "code",
   "execution_count": 54,
   "metadata": {},
   "outputs": [
    {
     "name": "stdout",
     "output_type": "stream",
     "text": [
      "Tokenizer saved as glove_NN_tokenizer.pickle\n"
     ]
    }
   ],
   "source": [
    "save_tokenizer(tokenizer, 'glove_NN_tokenizer')"
   ]
  }
 ],
 "metadata": {
  "kernelspec": {
   "display_name": ".venv",
   "language": "python",
   "name": "python3"
  },
  "language_info": {
   "codemirror_mode": {
    "name": "ipython",
    "version": 3
   },
   "file_extension": ".py",
   "mimetype": "text/x-python",
   "name": "python",
   "nbconvert_exporter": "python",
   "pygments_lexer": "ipython3",
   "version": "3.11.5"
  }
 },
 "nbformat": 4,
 "nbformat_minor": 2
}
